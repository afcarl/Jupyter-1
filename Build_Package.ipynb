{
 "cells": [
  {
   "cell_type": "markdown",
   "metadata": {},
   "source": [
    "# Pre-requisites\n",
    "1. Install Quilt\n",
    "\n",
    "    `pip install quilt`\n",
    "    \n",
    "1. Clone the source data\n",
    "\n",
    "    `git clone https://github.com/quiltdata/Jupyter`\n",
    "    \n",
    "1. Move to the root directory\n",
    "\n",
    "    `cd Jupyter`\n",
    "    \n",
    "1. Fire up a notebook server\n",
    "\n",
    "    `jupyter notebook`\n",
    "\n",
    "See [Troubleshooting](https://docs.quiltdata.com/troubleshooting.html) if you encounter any problems."
   ]
  },
  {
   "cell_type": "markdown",
   "metadata": {},
   "source": [
    "# Build a Quilt data package from files"
   ]
  },
  {
   "cell_type": "code",
   "execution_count": 36,
   "metadata": {
    "collapsed": true
   },
   "outputs": [],
   "source": [
    "import quilt"
   ]
  },
  {
   "cell_type": "markdown",
   "metadata": {},
   "source": [
    "## Generate build.yml\n",
    "`build.yml` tells Quilt how to construct the data package from files on disk"
   ]
  },
  {
   "cell_type": "code",
   "execution_count": 11,
   "metadata": {},
   "outputs": [
    {
     "name": "stdout",
     "output_type": "stream",
     "text": [
      "Generated build-file data/build.yml.\r\n"
     ]
    }
   ],
   "source": [
    "# Generate a build file that converts the files in /data into nodes in a data package\n",
    "! quilt generate data\n",
    "# TODO expose generate in Python, as with other commands"
   ]
  },
  {
   "cell_type": "code",
   "execution_count": 12,
   "metadata": {},
   "outputs": [
    {
     "name": "stdout",
     "output_type": "stream",
     "text": [
      "contents:\r\n",
      "  NFL_fandom_data_google_trends:\r\n",
      "    file: NFL_fandom_data-google_trends.csv\r\n",
      "  NFL_fandom_data_surveymonkey:\r\n",
      "    file: NFL_fandom_data-surveymonkey.csv\r\n",
      "  README:\r\n",
      "    file: README.md\r\n"
     ]
    }
   ],
   "source": [
    "!cat data/build.yml"
   ]
  },
  {
   "cell_type": "markdown",
   "metadata": {},
   "source": [
    "## Modify build.yml\n",
    "Use a text editor to shorten the node names (this is purely for convenience when using the package)."
   ]
  },
  {
   "cell_type": "code",
   "execution_count": 9,
   "metadata": {
    "scrolled": true
   },
   "outputs": [
    {
     "name": "stdout",
     "output_type": "stream",
     "text": [
      "contents:\r\n",
      "  google:\r\n",
      "    file: NFL_fandom_data-google_trends.csv\r\n",
      "  surveymonkey:\r\n",
      "    file: NFL_fandom_data-surveymonkey.csv\r\n",
      "  README:\r\n",
      "    file: README.md\r\n"
     ]
    }
   ],
   "source": [
    "!cat data/build.yml"
   ]
  },
  {
   "cell_type": "markdown",
   "metadata": {},
   "source": [
    "## Build the package\n",
    "To get a username, create a free account on https://quiltdata.com/."
   ]
  },
  {
   "cell_type": "code",
   "execution_count": 17,
   "metadata": {},
   "outputs": [
    {
     "name": "stderr",
     "output_type": "stream",
     "text": [
      "100%|██████████| 10.6K/10.6K [00:00<00:00, 1.09MB/s]\n",
      "100%|██████████| 3.04K/3.04K [00:00<00:00, 873KB/s]"
     ]
    },
    {
     "name": "stdout",
     "output_type": "stream",
     "text": [
      "Inferring 'transform: csv' for NFL_fandom_data-google_trends.csv\n",
      "Serializing data/NFL_fandom_data-google_trends.csv...\n",
      "Saving as binary dataframe...\n",
      "Inferring 'transform: csv' for NFL_fandom_data-surveymonkey.csv\n",
      "Serializing data/NFL_fandom_data-surveymonkey.csv...\n",
      "Saving as binary dataframe...\n",
      "Inferring 'transform: id' for README.md\n",
      "Copying data/README.md...\n",
      "Built akarve/nfl_fandom successfully.\n"
     ]
    },
    {
     "name": "stderr",
     "output_type": "stream",
     "text": [
      "\n"
     ]
    }
   ],
   "source": [
    "quilt.build(\"YOUR_USERNAME/nfl_fandom\", \"data/build.yml\")"
   ]
  },
  {
   "cell_type": "markdown",
   "metadata": {},
   "source": [
    "# Push the package"
   ]
  },
  {
   "cell_type": "code",
   "execution_count": 19,
   "metadata": {},
   "outputs": [
    {
     "name": "stdout",
     "output_type": "stream",
     "text": [
      "Fetching upload URLs from the registry...\n"
     ]
    },
    {
     "name": "stderr",
     "output_type": "stream",
     "text": [
      "\r",
      "  0%|          | 0.00/24.0K [00:00<?, ?B/s]"
     ]
    },
    {
     "name": "stdout",
     "output_type": "stream",
     "text": [
      "Uploading 3 fragments (24001 bytes before compression)...\n"
     ]
    },
    {
     "name": "stderr",
     "output_type": "stream",
     "text": [
      " 47%|████▋     | 11.3K/24.0K [00:00<00:00, 25.4KB/s]"
     ]
    },
    {
     "name": "stdout",
     "output_type": "stream",
     "text": [
      "Fragment f90b58fe741cee7c53d83cf9bfa7394efaaf5147fad7218906fdcc13646e01dc already uploaded; skipping.\n",
      "Fragment 8984ecbb8a5c2ab78bd8ba932b3375a4d92f4dbec3be8eb8337a3721a55823c9 already uploaded; skipping.\n"
     ]
    },
    {
     "name": "stderr",
     "output_type": "stream",
     "text": [
      "100%|██████████| 24.0K/24.0K [00:00<00:00, 29.1KB/s]\n"
     ]
    },
    {
     "name": "stdout",
     "output_type": "stream",
     "text": [
      "Uploading package metadata...\n",
      "Updating the 'latest' tag...\n",
      "Push complete. akarve/nfl_fandom is live:\n",
      "https://quiltdata.com/package/akarve/nfl_fandom\n"
     ]
    }
   ],
   "source": [
    "quilt.push(\"YOUR_USERNAME/nfl_fandom\", public=True)"
   ]
  },
  {
   "cell_type": "markdown",
   "metadata": {},
   "source": [
    "## Your package is now live\n",
    "Click the package landing page (see cell above) to visit your package. \n",
    "\n",
    "To modify your package modify the contents of `/data`, then `quilt build` and `quilt push` again."
   ]
  },
  {
   "cell_type": "markdown",
   "metadata": {},
   "source": [
    "## Quilt log shows the hash history\n",
    "You can travel time with `quilt.install(\"USER/PKG\", hash=\"SOME_HASH\"). Packages also support versions and tags. See the [docs](https://docs.quiltdata.com/python.html) for more."
   ]
  },
  {
   "cell_type": "code",
   "execution_count": 24,
   "metadata": {
    "scrolled": true
   },
   "outputs": [
    {
     "name": "stdout",
     "output_type": "stream",
     "text": [
      "Hash                                                             Pushed              Author\n",
      "8c5caf16e80bc072894e9369a79c242b5251cad272319a1df43c62284c10b6d1 2017-10-17 16:56:18 akarve\n"
     ]
    }
   ],
   "source": [
    "quilt.log(\"YOUR_USERNAME/nfl_fandom\")"
   ]
  }
 ],
 "metadata": {
  "kernelspec": {
   "display_name": "Python 3",
   "language": "python",
   "name": "python3"
  },
  "language_info": {
   "codemirror_mode": {
    "name": "ipython",
    "version": 3
   },
   "file_extension": ".py",
   "mimetype": "text/x-python",
   "name": "python",
   "nbconvert_exporter": "python",
   "pygments_lexer": "ipython3",
   "version": "3.6.1"
  }
 },
 "nbformat": 4,
 "nbformat_minor": 2
}
